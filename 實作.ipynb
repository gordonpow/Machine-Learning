{
  "nbformat": 4,
  "nbformat_minor": 0,
  "metadata": {
    "colab": {
      "provenance": []
    },
    "kernelspec": {
      "name": "python3",
      "display_name": "Python 3"
    },
    "language_info": {
      "name": "python"
    }
  },
  "cells": [
    {
      "cell_type": "code",
      "execution_count": 1,
      "metadata": {
        "colab": {
          "base_uri": "https://localhost:8080/"
        },
        "id": "LZX72a8iuSJ4",
        "outputId": "ac52f6cf-4746-4fb6-8b61-03404ab66a68"
      },
      "outputs": [
        {
          "output_type": "stream",
          "name": "stdout",
          "text": [
            "Updated weights:  [-193.35626852 -232.03370923]\n",
            "Updated bias:  -30.00000000000189\n"
          ]
        }
      ],
      "source": [
        "import numpy as np\n",
        "\n",
        "# 生成一些數據\n",
        "X = np.array([[2, 3], [3, 4], [5, 5], [6, 7], [8, 9], [10, 11]])  # 輸入特徵\n",
        "y = np.array([1, 1, 1, -1, -1, -1])  # 標籤\n",
        "\n",
        "# 初始化權重和偏置\n",
        "w = np.zeros(X.shape[1])\n",
        "b = 0\n",
        "learning_rate = 0.01\n",
        "iterations = 1000\n",
        "lambda_param = 0.01  # 正則化參數\n",
        "\n",
        "# 訓練過程\n",
        "for i in range(iterations):\n",
        "    for j in range(len(X)):\n",
        "        # 計算當前的模型預測\n",
        "        condition = y[j] * (np.dot(X[j], w) + b) >= 1\n",
        "\n",
        "        if condition:\n",
        "            # 若符合條件，僅更新正則化項\n",
        "            dw = 2 * lambda_param * w\n",
        "            db = 0\n",
        "        else:\n",
        "            # 若不符合條件，則更新權重和偏置\n",
        "            dw = 2 * lambda_param * w - np.dot(y[j], X[j])\n",
        "            db = -y[j]\n",
        "\n",
        "        # 更新權重和偏置\n",
        "        w = w + learning_rate * dw  # w^* = w + △w\n",
        "        b = b + learning_rate * db  # b^* = b + △b\n",
        "\n",
        "print(\"Updated weights: \", w)\n",
        "print(\"Updated bias: \", b)\n"
      ]
    },
    {
      "cell_type": "code",
      "source": [
        "import numpy as np\n",
        "\n",
        "# 激活函數及其導數（Sigmoid）\n",
        "def sigmoid(x):\n",
        "    return 1 / (1 + np.exp(-x))\n",
        "\n",
        "def sigmoid_derivative(x):\n",
        "    return x * (1 - x)\n",
        "\n",
        "# 訓練數據（X: 輸入，y: 標籤）\n",
        "X = np.array([[0, 0], [0, 1], [1, 0], [1, 1]])\n",
        "y = np.array([[0], [1], [1], [0]])  # XOR 問題\n",
        "\n",
        "# 初始化權重\n",
        "input_layer_neurons = X.shape[1]  # 輸入層神經元數量\n",
        "hidden_layer_neurons = 4         # 隱藏層神經元數量\n",
        "output_layer_neurons = 1         # 輸出層神經元數量\n",
        "\n",
        "# 隨機初始化權重\n",
        "W1 = np.random.rand(input_layer_neurons, hidden_layer_neurons)  # 輸入層到隱藏層的權重\n",
        "b1 = np.random.rand(1, hidden_layer_neurons)  # 隱藏層偏置\n",
        "W2 = np.random.rand(hidden_layer_neurons, output_layer_neurons)  # 隱藏層到輸出層的權重\n",
        "b2 = np.random.rand(1, output_layer_neurons)  # 輸出層偏置\n",
        "\n",
        "# 學習率\n",
        "learning_rate = 0.1\n",
        "\n",
        "# 訓練過程\n",
        "for epoch in range(10000):\n",
        "    # 前向傳播\n",
        "    hidden_layer_input = np.dot(X, W1) + b1\n",
        "    hidden_layer_output = sigmoid(hidden_layer_input)\n",
        "    output_layer_input = np.dot(hidden_layer_output, W2) + b2\n",
        "    predicted_output = sigmoid(output_layer_input)\n",
        "\n",
        "    # 計算損失（均方誤差）\n",
        "    error = y - predicted_output\n",
        "\n",
        "    # 反向傳播（反向計算每層的梯度）\n",
        "    d_predicted_output = error * sigmoid_derivative(predicted_output)\n",
        "    error_hidden_layer = d_predicted_output.dot(W2.T) * sigmoid_derivative(hidden_layer_output)\n",
        "\n",
        "    # 更新權重和偏置\n",
        "    W2 += hidden_layer_output.T.dot(d_predicted_output) * learning_rate  # 更新W2\n",
        "    b2 += np.sum(d_predicted_output, axis=0, keepdims=True) * learning_rate  # 更新b2\n",
        "    W1 += X.T.dot(error_hidden_layer) * learning_rate  # 更新W1\n",
        "    b1 += np.sum(error_hidden_layer, axis=0, keepdims=True) * learning_rate  # 更新b1\n",
        "\n",
        "    if epoch % 1000 == 0:\n",
        "        print(f'Epoch {epoch}, Error: {np.mean(np.abs(error))}')\n",
        "\n",
        "print(\"Trained weights for W1:\", W1)\n",
        "print(\"Trained weights for W2:\", W2)\n"
      ],
      "metadata": {
        "colab": {
          "base_uri": "https://localhost:8080/"
        },
        "id": "ar8QDLllu-ij",
        "outputId": "ca3d4173-3cd3-40aa-8605-0607086cfcf1"
      },
      "execution_count": 2,
      "outputs": [
        {
          "output_type": "stream",
          "name": "stdout",
          "text": [
            "Epoch 0, Error: 0.49885032533539064\n",
            "Epoch 1000, Error: 0.498336028070397\n",
            "Epoch 2000, Error: 0.48542623233289706\n",
            "Epoch 3000, Error: 0.41371202775134713\n",
            "Epoch 4000, Error: 0.31742083500393964\n",
            "Epoch 5000, Error: 0.1875218281178422\n",
            "Epoch 6000, Error: 0.1216487745140247\n",
            "Epoch 7000, Error: 0.09104892102959193\n",
            "Epoch 8000, Error: 0.07396447993829364\n",
            "Epoch 9000, Error: 0.06308121333942486\n",
            "Trained weights for W1: [[ 3.04987633  0.23581808  6.21710589  2.78458487]\n",
            " [-0.76040352  2.15889549  5.92177606  3.36434167]]\n",
            "Trained weights for W2: [[-3.37478229]\n",
            " [-3.0756057 ]\n",
            " [ 9.02214432]\n",
            " [-6.35987783]]\n"
          ]
        }
      ]
    }
  ]
}